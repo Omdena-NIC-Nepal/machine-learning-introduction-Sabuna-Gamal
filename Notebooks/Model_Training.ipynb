{
 "cells": [
  {
   "cell_type": "markdown",
   "metadata": {},
   "source": [
    "### 3. Model Building and Training\n",
    "#### Task 3: Model Training\n",
    "\n",
    "Notebook: notebooks/Model_Training.ipynb\n",
    "Steps:\n",
    "- Choose appropriate features for the model.\n",
    "- Train a linear regression model.\n",
    "- Perform hyperparameter tuning (if applicable).\n",
    "\n",
    "- Script: scripts/train_model.py\n"
   ]
  },
  {
   "cell_type": "markdown",
   "metadata": {},
   "source": [
    "###Import Libraries"
   ]
  },
  {
   "cell_type": "code",
   "execution_count": 1,
   "metadata": {},
   "outputs": [],
   "source": [
    "import pandas as pd\n",
    "import numpy as np\n",
    "import matplotlib.pyplot as plt\n",
    "import seaborn as sns\n",
    "from sklearn.model_selection import train_test_split\n",
    "from sklearn.linear_model import LinearRegression\n",
    "from sklearn.metrics import mean_squared_error, r2_score\n"
   ]
  },
  {
   "cell_type": "markdown",
   "metadata": {},
   "source": [
    "###Load the Preprocessed Dataset"
   ]
  },
  {
   "cell_type": "code",
   "execution_count": 12,
   "metadata": {},
   "outputs": [
    {
     "name": "stdout",
     "output_type": "stream",
     "text": [
      "       crim        zn     indus      chas       nox        rm       age  \\\n",
      "0 -0.236041  0.871318 -0.501726 -0.260378 -1.073076  0.439527 -0.440185   \n",
      "1 -0.214499  0.237584 -0.144178 -0.260378  0.338419 -0.580839  0.940816   \n",
      "2  0.089608 -0.596277  2.349763 -0.260378  1.856155 -0.930475  1.402401   \n",
      "3  2.283708  0.737901 -0.837928 -0.260378  2.205235  2.565886  1.263550   \n",
      "4 -0.332314 -0.596277 -0.823697 -0.260378  0.125936 -1.608341  1.038387   \n",
      "\n",
      "        dis       rad       tax   ptratio         b     lstat  \n",
      "0  1.951028  1.484407  0.243996  0.358605 -2.474124 -0.268091  \n",
      "1  1.253798  0.281608 -0.003673 -1.785172 -0.692920  1.404934  \n",
      "2 -1.527156 -0.319792  1.638760  1.512946  0.098231  2.336354  \n",
      "3 -1.295462  0.281608 -0.616326 -2.994482  0.303070  0.113747  \n",
      "4 -1.003274  0.281608 -0.199200 -1.015611  0.819619  0.873009  \n",
      "       crim        zn     indus      chas       nox        rm       age  \\\n",
      "0  0.569941 -0.596277  0.339668  3.840573 -0.192789 -2.007925  1.042140   \n",
      "1 -0.561767 -0.596277  0.738129 -0.260378 -0.982012  0.058971 -2.057608   \n",
      "2  0.544853 -0.596277  0.216927 -0.260378  0.641966  0.758243  0.993354   \n",
      "3  0.294240 -0.596277 -0.231342 -0.260378 -0.132079  0.151732 -1.198235   \n",
      "4  1.480890 -0.596277 -0.441245 -0.260378  0.080404  0.879546  0.749427   \n",
      "\n",
      "        dis       rad       tax   ptratio         b     lstat  \n",
      "0 -0.399524 -0.319792 -0.446869  0.083762  0.573219  2.923457  \n",
      "1 -0.068250  0.281608  1.130388  0.138730  0.525720 -0.872851  \n",
      "2 -0.434939 -0.319792 -0.094919 -0.026176  0.640014 -0.321062  \n",
      "3  0.589442  0.281608 -0.316517  0.633448  0.819619 -1.011902  \n",
      "4 -0.621447  2.085806 -0.055813 -0.575862  0.819619 -0.691865  \n",
      "       medv\n",
      "0  0.404414\n",
      "1 -0.825827\n",
      "2 -2.056069\n",
      "3  1.832372\n",
      "4  0.096854\n",
      "       medv\n",
      "0 -0.737953\n",
      "1  0.316540\n",
      "2  0.250634\n",
      "3  0.074885\n",
      "4  1.634655\n"
     ]
    }
   ],
   "source": [
    "# # Load dataset\n",
    "file_path = (r\"D:\\Assignment\\Machine Lerning\\machine-learning-introduction-Sabuna-Gamal\\Data\\BostonHousing.csv\") \n",
    "df = pd.read_csv(file_path)  # Read CSV into a DataFrame\n",
    "\n",
    "# Load the preprocessed dataset\n",
    "X_test = pd.read_csv(r\"D:\\Assignment\\Machine Lerning\\machine-learning-introduction-Sabuna-Gamal\\Data\\X_test.csv\")\n",
    "X_train = pd.read_csv(r\"D:\\Assignment\\Machine Lerning\\machine-learning-introduction-Sabuna-Gamal\\Data\\X_train.csv\")\n",
    "y_test = pd.read_csv(r\"D:\\Assignment\\Machine Lerning\\machine-learning-introduction-Sabuna-Gamal\\Data\\y_test.csv\")\n",
    "y_train = pd.read_csv(r\"D:\\Assignment\\Machine Lerning\\machine-learning-introduction-Sabuna-Gamal\\Data\\y_train.csv\")\n",
    "\n",
    "# Display the first few rows\n",
    "print(X_test.head())\n",
    "print(X_train.head())\n",
    "print(y_test.head())\n",
    "print(y_train.head())\n"
   ]
  },
  {
   "cell_type": "code",
   "execution_count": 17,
   "metadata": {},
   "outputs": [
    {
     "name": "stdout",
     "output_type": "stream",
     "text": [
      "Missing values before handling:\n",
      " crim       0\n",
      "zn         0\n",
      "indus      0\n",
      "chas       0\n",
      "nox        0\n",
      "rm         5\n",
      "age        0\n",
      "dis        0\n",
      "rad        0\n",
      "tax        0\n",
      "ptratio    0\n",
      "b          0\n",
      "lstat      0\n",
      "medv       0\n",
      "dtype: int64\n"
     ]
    }
   ],
   "source": [
    "# Check for missing values\n",
    "print(\"Missing values before handling:\\n\", df.isnull().sum())\n",
    "\n",
    "# Drop rows with NaN values (only if few values are missing)\n",
    "df = df.dropna()"
   ]
  },
  {
   "cell_type": "code",
   "execution_count": 18,
   "metadata": {},
   "outputs": [],
   "source": [
    "# Define features (X) and target variable (y)\n",
    "X = df.drop(columns=['medv'])  # Features (remove the target column)\n",
    "y = df['medv']  # Target variable (house price)\n"
   ]
  },
  {
   "cell_type": "markdown",
   "metadata": {},
   "source": [
    " ###Split Data into Training and Testing Sets"
   ]
  },
  {
   "cell_type": "code",
   "execution_count": 19,
   "metadata": {},
   "outputs": [
    {
     "name": "stdout",
     "output_type": "stream",
     "text": [
      "Training set size: (400, 13)\n",
      "Testing set size: (101, 13)\n"
     ]
    }
   ],
   "source": [
    "# Split dataset into training and testing sets (80% training, 20% testing)\n",
    "X_train, X_test, y_train, y_test = train_test_split(X, y, test_size=0.2, random_state=42)\n",
    "\n",
    "print(\"Training set size:\", X_train.shape)\n",
    "print(\"Testing set size:\", X_test.shape)\n"
   ]
  },
  {
   "cell_type": "markdown",
   "metadata": {},
   "source": [
    "### Train a Linear Regression Model"
   ]
  },
  {
   "cell_type": "code",
   "execution_count": 20,
   "metadata": {},
   "outputs": [
    {
     "name": "stdout",
     "output_type": "stream",
     "text": [
      "Model Coefficients: [-9.68696752e-02  4.39366725e-02  4.06879802e-02  2.21236621e+00\n",
      " -1.45083232e+01  3.97614280e+00  9.84686278e-03 -1.35437909e+00\n",
      "  2.93898795e-01 -1.21174924e-02 -8.68721190e-01  1.28288751e-02\n",
      " -6.10251464e-01]\n",
      "Model Intercept: 30.626081825846626\n"
     ]
    }
   ],
   "source": [
    "# Initialize the model\n",
    "model = LinearRegression()\n",
    "\n",
    "# Train (fit) the model\n",
    "model.fit(X_train, y_train)\n",
    "\n",
    "# Print model coefficients\n",
    "print(\"Model Coefficients:\", model.coef_)\n",
    "print(\"Model Intercept:\", model.intercept_)\n"
   ]
  },
  {
   "cell_type": "markdown",
   "metadata": {},
   "source": [
    "### Make predictions"
   ]
  },
  {
   "cell_type": "code",
   "execution_count": 21,
   "metadata": {},
   "outputs": [
    {
     "name": "stdout",
     "output_type": "stream",
     "text": [
      "Predicted Prices: [10.18296392 22.90028638 15.7250715  32.8687425  23.06305477]\n"
     ]
    }
   ],
   "source": [
    "# Make predictions on the test set\n",
    "y_pred = model.predict(X_test)\n",
    "\n",
    "# Print first five predictions\n",
    "print(\"Predicted Prices:\", y_pred[:5])\n"
   ]
  },
  {
   "cell_type": "markdown",
   "metadata": {},
   "source": [
    "### Evaluate Model Performance"
   ]
  },
  {
   "cell_type": "code",
   "execution_count": 22,
   "metadata": {},
   "outputs": [
    {
     "name": "stdout",
     "output_type": "stream",
     "text": [
      "Mean Squared Error: 20.687720473048508\n",
      "R-squared Score: 0.7200277678580314\n"
     ]
    }
   ],
   "source": [
    "# Calculate Mean Squared Error (MSE)\n",
    "mse = mean_squared_error(y_test, y_pred)\n",
    "\n",
    "# Calculate R-squared (R²) Score\n",
    "r2 = r2_score(y_test, y_pred)\n",
    "\n",
    "print(\"Mean Squared Error:\", mse)\n",
    "print(\"R-squared Score:\", r2)\n"
   ]
  },
  {
   "cell_type": "markdown",
   "metadata": {},
   "source": [
    "Hyperparameter Tuning "
   ]
  },
  {
   "cell_type": "code",
   "execution_count": 23,
   "metadata": {},
   "outputs": [
    {
     "name": "stdout",
     "output_type": "stream",
     "text": [
      "MSE with Polynomial Features: 12.45895834024775\n",
      "R² Score with Polynomial Features: 0.831389718300416\n"
     ]
    }
   ],
   "source": [
    "from sklearn.preprocessing import PolynomialFeatures\n",
    "\n",
    "# Transform features to include polynomial terms (degree=2)\n",
    "poly = PolynomialFeatures(degree=2)\n",
    "X_train_poly = poly.fit_transform(X_train)\n",
    "X_test_poly = poly.transform(X_test)\n",
    "\n",
    "# Train a new model with polynomial features\n",
    "poly_model = LinearRegression()\n",
    "poly_model.fit(X_train_poly, y_train)\n",
    "\n",
    "# Evaluate new model\n",
    "y_pred_poly = poly_model.predict(X_test_poly)\n",
    "print(\"MSE with Polynomial Features:\", mean_squared_error(y_test, y_pred_poly))\n",
    "print(\"R² Score with Polynomial Features:\", r2_score(y_test, y_pred_poly))\n"
   ]
  },
  {
   "cell_type": "code",
   "execution_count": 24,
   "metadata": {},
   "outputs": [],
   "source": [
    "import joblib\n",
    "\n",
    "# Save the trained model\n",
    "joblib.dump(model, \"linear_regression_model.pkl\")\n",
    "\n",
    "# Load model (for later use)\n",
    "loaded_model = joblib.load(\"linear_regression_model.pkl\")\n"
   ]
  }
 ],
 "metadata": {
  "kernelspec": {
   "display_name": "Python 3",
   "language": "python",
   "name": "python3"
  },
  "language_info": {
   "codemirror_mode": {
    "name": "ipython",
    "version": 3
   },
   "file_extension": ".py",
   "mimetype": "text/x-python",
   "name": "python",
   "nbconvert_exporter": "python",
   "pygments_lexer": "ipython3",
   "version": "3.12.7"
  }
 },
 "nbformat": 4,
 "nbformat_minor": 2
}
